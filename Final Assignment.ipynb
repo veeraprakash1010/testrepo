{
 "cells": [
  {
   "cell_type": "markdown",
   "id": "0627db9c-2045-46e7-a6a3-bcd4d9e9f77c",
   "metadata": {},
   "source": [
    "<h1>Header 1,My jupiter notebook on IBM watson studio<h1>"
   ]
  },
  {
   "cell_type": "markdown",
   "id": "68f3a16b-07de-4734-9df3-252d33ac49eb",
   "metadata": {},
   "source": [
    "**Veera Prakash Reddy**"
   ]
  },
  {
   "cell_type": "markdown",
   "id": "eed98669-093c-42f3-a353-3d0fc76c7954",
   "metadata": {},
   "source": [
    "*I am interested in data science because ...*"
   ]
  },
  {
   "cell_type": "markdown",
   "id": "3db43aa1-b4ba-4b25-b16d-f645cf3aa39a",
   "metadata": {},
   "source": [
    "### code to find GCD of 2 numbers"
   ]
  },
  {
   "cell_type": "code",
   "execution_count": 2,
   "id": "0ffc0a26-1776-4867-a60d-cda26b66827a",
   "metadata": {
    "tags": []
   },
   "outputs": [
    {
     "name": "stdout",
     "output_type": "stream",
     "text": [
      "3\n"
     ]
    }
   ],
   "source": [
    "def gcd(m,n):\n",
    "    if m<n:\n",
    "        (m,n)=(n,m)\n",
    "    while m%n!=0:\n",
    "     (m,n)=(n,m%n)\n",
    "    return(n)\n",
    "gcd = gcd(12,15)\n",
    "print(gcd)"
   ]
  },
  {
   "cell_type": "markdown",
   "id": "b5983b02-bb1c-47a5-972f-227e78d4f758",
   "metadata": {},
   "source": [
    "***"
   ]
  },
  {
   "cell_type": "markdown",
   "id": "847408d8-4919-49b3-a2d5-a6af1a7e8338",
   "metadata": {},
   "source": [
    "- EMARALD\n",
    "- PRAKASH\n",
    "- HARSHA\n",
    "- DHARANI\n",
    "- HARI"
   ]
  },
  {
   "cell_type": "markdown",
   "id": "4e5162bb-1fb5-47d4-b56b-5027e05cd95c",
   "metadata": {},
   "source": [
    "~~break the rules~~"
   ]
  },
  {
   "cell_type": "code",
   "execution_count": null,
   "id": "a29392de-33ca-4b1c-8b39-b632b43c469b",
   "metadata": {},
   "outputs": [],
   "source": []
  }
 ],
 "metadata": {
  "kernelspec": {
   "display_name": "Python",
   "language": "python",
   "name": "conda-env-python-py"
  },
  "language_info": {
   "codemirror_mode": {
    "name": "ipython",
    "version": 3
   },
   "file_extension": ".py",
   "mimetype": "text/x-python",
   "name": "python",
   "nbconvert_exporter": "python",
   "pygments_lexer": "ipython3",
   "version": "3.7.12"
  }
 },
 "nbformat": 4,
 "nbformat_minor": 5
}
